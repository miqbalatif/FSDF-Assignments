{
 "cells": [
  {
   "cell_type": "markdown",
   "metadata": {},
   "source": [
    "# Coding Assignment 1"
   ]
  },
  {
   "cell_type": "code",
   "execution_count": 3,
   "metadata": {},
   "outputs": [
    {
     "name": "stdout",
     "output_type": "stream",
     "text": [
      "Hello Python\n"
     ]
    }
   ],
   "source": [
    "#Write a Python program to print \"Hello Python\"\n",
    "print(\"Hello Python\")"
   ]
  },
  {
   "cell_type": "code",
   "execution_count": 4,
   "metadata": {},
   "outputs": [
    {
     "name": "stdout",
     "output_type": "stream",
     "text": [
      "Addition:  10\n",
      "Division:  1.0\n"
     ]
    }
   ],
   "source": [
    "#Write a Python program to do arithmetical operations addition and division.\n",
    "x=input(\"Enter a number: \")\n",
    "y=input(\"Enter another number: \")\n",
    "print(\"Addition: \",int(x)+int(y))\n",
    "print(\"Division: \",int(x)/int(y))"
   ]
  },
  {
   "cell_type": "code",
   "execution_count": 5,
   "metadata": {},
   "outputs": [
    {
     "name": "stdout",
     "output_type": "stream",
     "text": [
      "Area of the triangle:  12.5\n"
     ]
    }
   ],
   "source": [
    "#Write a Python program to find the area of a triangle.\n",
    "a=int(input(\"Enter the length of base: \"))\n",
    "b=int(input(\"Enter the height of the triangle: \"))\n",
    "s=(a*b)/2\n",
    "print(\"Area of the triangle: \",s)\n"
   ]
  },
  {
   "cell_type": "code",
   "execution_count": 6,
   "metadata": {},
   "outputs": [
    {
     "name": "stdout",
     "output_type": "stream",
     "text": [
      "Before swapping:  1 2\n",
      "After swapping:  2 1\n"
     ]
    }
   ],
   "source": [
    "#Write a Python program to swap two variables.\n",
    "x=1\n",
    "y=2\n",
    "print(\"Before swapping: \",x,y)\n",
    "x,y=y,x\n",
    "print(\"After swapping: \",x,y)"
   ]
  },
  {
   "cell_type": "code",
   "execution_count": 7,
   "metadata": {},
   "outputs": [
    {
     "name": "stdout",
     "output_type": "stream",
     "text": [
      "Random number:  9392953\n"
     ]
    }
   ],
   "source": [
    "#Write a Python program to generate a random number.\n",
    "import random\n",
    "print(\"Random number: \",random.randint(1,10000000))"
   ]
  },
  {
   "cell_type": "code",
   "execution_count": null,
   "metadata": {},
   "outputs": [],
   "source": []
  }
 ],
 "metadata": {
  "interpreter": {
   "hash": "05214a5d761c951228c6ea83cc547bfbee7d6995b92c4be30e2e7c686b30690b"
  },
  "kernelspec": {
   "display_name": "Python 3.9.7 ('base')",
   "language": "python",
   "name": "python3"
  },
  "language_info": {
   "codemirror_mode": {
    "name": "ipython",
    "version": 3
   },
   "file_extension": ".py",
   "mimetype": "text/x-python",
   "name": "python",
   "nbconvert_exporter": "python",
   "pygments_lexer": "ipython3",
   "version": "3.9.7"
  },
  "orig_nbformat": 4
 },
 "nbformat": 4,
 "nbformat_minor": 2
}
